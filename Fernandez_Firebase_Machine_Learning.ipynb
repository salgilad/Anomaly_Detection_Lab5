{
  "nbformat": 4,
  "nbformat_minor": 0,
  "metadata": {
    "colab": {
      "provenance": [],
      "toc_visible": true,
      "authorship_tag": "ABX9TyOmtFHY1qtmLu/JlOTyYgwj",
      "include_colab_link": true
    },
    "kernelspec": {
      "name": "python3",
      "display_name": "Python 3"
    },
    "language_info": {
      "name": "python"
    }
  },
  "cells": [
    {
      "cell_type": "markdown",
      "metadata": {
        "id": "view-in-github",
        "colab_type": "text"
      },
      "source": [
        "<a href=\"https://colab.research.google.com/github/salgilad/Anomaly_Detection_Lab5/blob/main/Fernandez_Firebase_Machine_Learning.ipynb\" target=\"_parent\"><img src=\"https://colab.research.google.com/assets/colab-badge.svg\" alt=\"Open In Colab\"/></a>"
      ]
    },
    {
      "cell_type": "code",
      "execution_count": 2,
      "metadata": {
        "colab": {
          "base_uri": "https://localhost:8080/"
        },
        "id": "LN3Ok0j5Adof",
        "outputId": "e63440c6-7b89-440c-d077-da214c143caa"
      },
      "outputs": [
        {
          "output_type": "stream",
          "name": "stdout",
          "text": [
            "  Student  Math Grade  Science Grade  English Grade  Average Grade Pass/Fail\n",
            "0   Gilad          85             76             90      83.666667      Pass\n",
            "1    Geto          78             90             85      84.333333      Pass\n",
            "2  George          92             82             78      84.000000      Pass\n",
            "3   Lolot          70             88             95      84.333333      Pass\n",
            "4   Perci          60             72             70      67.333333      Fail\n"
          ]
        }
      ],
      "source": [
        "import pandas as pd\n",
        "\n",
        "data = {\n",
        "    \"Student\": [\"Gilad\", \"Geto\", \"George\", \"Lolot\", \"Perci\"],\n",
        "    \"Math Grade\": [85, 78, 92, 70, 60],\n",
        "    \"Science Grade\": [76, 90, 82, 88, 72],\n",
        "    \"English Grade\": [90, 85, 78, 95, 70],\n",
        "    \"Average Grade\": [0, 0, 0, 0, 0],\n",
        "    \"Pass/Fail\": [\"\", \"\", \"\", \"\", \"\"]\n",
        "}\n",
        "\n",
        "df = pd.DataFrame(data)\n",
        "\n",
        "df['Average Grade'] = df[['Math Grade', 'Science Grade', 'English Grade']].mean(axis=1)\n",
        "\n",
        "\n",
        "def pass_fail(average):\n",
        "  if average >= 75:\n",
        "    return \"Pass\"\n",
        "  else:\n",
        "    return \"Fail\"\n",
        "\n",
        "df[\"Pass/Fail\"] = df[\"Average Grade\"].apply(pass_fail)\n",
        "\n",
        "df = df[[\"Student\", \"Math Grade\", \"Science Grade\", \"English Grade\", \"Average Grade\", \"Pass/Fail\"]]\n",
        "\n",
        "print(df)"
      ]
    },
    {
      "cell_type": "code",
      "source": [],
      "metadata": {
        "id": "MlaoOcVgBv-k"
      },
      "execution_count": null,
      "outputs": []
    }
  ]
}
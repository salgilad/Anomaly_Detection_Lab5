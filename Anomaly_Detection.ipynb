{
  "nbformat": 4,
  "nbformat_minor": 0,
  "metadata": {
    "colab": {
      "provenance": []
    },
    "kernelspec": {
      "name": "python3",
      "display_name": "Python 3"
    },
    "language_info": {
      "name": "python"
    }
  },
  "cells": [
    {
      "cell_type": "code",
      "execution_count": 2,
      "metadata": {
        "id": "oA9Y1LqsqXin"
      },
      "outputs": [],
      "source": [
        "import pandas as pd\n",
        "import numpy as np\n",
        "import matplotlib.pyplot as plt\n"
      ]
    },
    {
      "cell_type": "code",
      "source": [
        "data= {\n",
        "    \"Name\": [\"Jovanie\", \"Sal Gilad\", \"Daniel\", \"Jim Christer\", \"Keint Joseph\", \"Denzel\", \"Kenji\", \"Gilbert\", \"Dhan Alher\", \"Clarenz\", \"Myca\", \"Eunice\", \"Debbie Marie\", \"Rhiza\", \"Mae\", \"Riezel\", \"Neslie\", \"Aira\", \"Juilie\", \"Lester\"],\n",
        "    \"Age\": [21,22,22,21,21,22,23,24,22,21,20,21,20,22,22,21,21,23,21,20],\n",
        "    \"Salary\": [20000,4000,4000,2111,2222,4444,5555,1111,24242,21212,554,45454,312312,55151,242141,212312,31231,5676,8799,31231],\n",
        "    \"Position\": [\"Student\",\"Teacher\",\"Programmer\",\"Tambay\",\"Tanod\",\"Panday\",\"CEO\",\"Foreman\",\"Construction Worker\",\"Tindera\",\"Unemployed\",\"Salary Man\",\"Army\",\"Police\",\"Marines\",\"Gym Rat\",\"Alcholic\",\"Racist\",\"Moe\",\"Cute\",]\n",
        "}\n",
        "df=pd.DataFrame(data)"
      ],
      "metadata": {
        "id": "-pIVzvpQT3Ob"
      },
      "execution_count": 5,
      "outputs": []
    },
    {
      "cell_type": "code",
      "source": [
        "print('Dataset: ')\n",
        "print(df)"
      ],
      "metadata": {
        "colab": {
          "base_uri": "https://localhost:8080/"
        },
        "id": "6DP1v3t3YrC1",
        "outputId": "8e0c6fb7-8e4a-4f75-c0bb-db2085402463"
      },
      "execution_count": 6,
      "outputs": [
        {
          "output_type": "stream",
          "name": "stdout",
          "text": [
            "Dataset: \n",
            "            Name  Age  Salary             Position\n",
            "0        Jovanie   21   20000              Student\n",
            "1      Sal Gilad   22    4000              Teacher\n",
            "2         Daniel   22    4000           Programmer\n",
            "3   Jim Christer   21    2111               Tambay\n",
            "4   Keint Joseph   21    2222                Tanod\n",
            "5         Denzel   22    4444               Panday\n",
            "6          Kenji   23    5555                  CEO\n",
            "7        Gilbert   24    1111              Foreman\n",
            "8     Dhan Alher   22   24242  Construction Worker\n",
            "9        Clarenz   21   21212              Tindera\n",
            "10          Myca   20     554           Unemployed\n",
            "11        Eunice   21   45454           Salary Man\n",
            "12  Debbie Marie   20  312312                 Army\n",
            "13         Rhiza   22   55151               Police\n",
            "14           Mae   22  242141              Marines\n",
            "15        Riezel   21  212312              Gym Rat\n",
            "16        Neslie   21   31231             Alcholic\n",
            "17          Aira   23    5676               Racist\n",
            "18        Juilie   21    8799                  Moe\n",
            "19        Lester   20   31231                 Cute\n"
          ]
        }
      ]
    },
    {
      "cell_type": "code",
      "source": [
        "mean_salary=df['Salary'].mean()\n",
        "std_salaray=df['Salary'].std()\n",
        "threshold=1.5*std_salaray"
      ],
      "metadata": {
        "id": "wduLo3c8ZSB1"
      },
      "execution_count": 8,
      "outputs": []
    },
    {
      "cell_type": "code",
      "source": [],
      "metadata": {
        "id": "0Csee__rZg-d"
      },
      "execution_count": null,
      "outputs": []
    }
  ]
}